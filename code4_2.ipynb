{
  "nbformat": 4,
  "nbformat_minor": 0,
  "metadata": {
    "colab": {
      "provenance": [],
      "gpuType": "T4",
      "authorship_tag": "ABX9TyMT8iyh64Za5aogXGLYUR58",
      "include_colab_link": true
    },
    "kernelspec": {
      "name": "python3",
      "display_name": "Python 3"
    },
    "language_info": {
      "name": "python"
    },
    "accelerator": "GPU"
  },
  "cells": [
    {
      "cell_type": "markdown",
      "metadata": {
        "id": "view-in-github",
        "colab_type": "text"
      },
      "source": [
        "<a href=\"https://colab.research.google.com/github/lihui1625/deepleaning/blob/main/code4_2.ipynb\" target=\"_parent\"><img src=\"https://colab.research.google.com/assets/colab-badge.svg\" alt=\"Open In Colab\"/></a>"
      ]
    },
    {
      "cell_type": "code",
      "execution_count": 1,
      "metadata": {
        "colab": {
          "base_uri": "https://localhost:8080/"
        },
        "id": "N4ldztgwGoeK",
        "outputId": "5edb1335-7354-46f0-aaf2-eb386acd9112"
      },
      "outputs": [
        {
          "output_type": "stream",
          "name": "stdout",
          "text": [
            "Downloading data from https://storage.googleapis.com/tensorflow/tf-keras-datasets/reuters.npz\n",
            "2110848/2110848 [==============================] - 0s 0us/step\n",
            "8982\n",
            "2246\n",
            "[1, 2, 2, 8, 43, 10, 447, 5, 25, 207, 270, 5, 3095, 111, 16, 369, 186, 90, 67, 7, 89, 5, 19, 102, 6, 19, 124, 15, 90, 67, 84, 22, 482, 26, 7, 48, 4, 49, 8, 864, 39, 209, 154, 6, 151, 6, 83, 11, 15, 22, 155, 11, 15, 7, 48, 9, 4579, 1005, 504, 6, 258, 6, 272, 11, 15, 22, 134, 44, 11, 15, 16, 8, 197, 1245, 90, 67, 52, 29, 209, 30, 32, 132, 6, 109, 15, 17, 12]\n"
          ]
        }
      ],
      "source": [
        "from tensorflow.keras.datasets import reuters\n",
        "(train_data, train_labels),(test_data, test_labels)=reuters.load_data(num_words=10000)\n",
        "\n",
        "print(len(train_data))\n",
        "print(len(test_data))\n",
        "print(train_data[0])\n"
      ]
    },
    {
      "cell_type": "code",
      "source": [
        "word_index = reuters.get_word_index()\n",
        "reverse_word_index = dict([(value, key) for (key, value) in word_index.items()])\n",
        "decoded_newswire = \" \".join([reverse_word_index.get(i-3, \"?\") for i in train_data[0]])\n",
        "print(decoded_newswire)\n",
        "print(train_labels[0])\n"
      ],
      "metadata": {
        "colab": {
          "base_uri": "https://localhost:8080/"
        },
        "id": "_PnSCW0LH7xZ",
        "outputId": "f082e064-a0a7-4d08-ac3f-eedc472789c3"
      },
      "execution_count": 3,
      "outputs": [
        {
          "output_type": "stream",
          "name": "stdout",
          "text": [
            "? ? ? said as a result of its december acquisition of space co it expects earnings per share in 1987 of 1 15 to 1 30 dlrs per share up from 70 cts in 1986 the company said pretax net should rise to nine to 10 mln dlrs from six mln dlrs in 1986 and rental operation revenues to 19 to 22 mln dlrs from 12 5 mln dlrs it said cash flow per share this year should be 2 50 to three dlrs reuter 3\n",
            "3\n"
          ]
        }
      ]
    },
    {
      "cell_type": "code",
      "source": [
        "import numpy as np\n",
        "def vectorize_sequences(sequences, dimension=10000):\n",
        "  results = np.zeros((len(sequences), dimension))\n",
        "  for i, seq in enumerate(sequences):\n",
        "    for j in seq:\n",
        "      results[i, j] = 1.0\n",
        "  return results"
      ],
      "metadata": {
        "id": "4_L_Ra9ZJgK6"
      },
      "execution_count": 6,
      "outputs": []
    },
    {
      "cell_type": "code",
      "source": [
        "from tensorflow.keras.utils import to_categorical\n",
        "\n",
        "x_train = vectorize_sequences(train_data)\n",
        "x_test = vectorize_sequences(test_data)\n",
        "\n",
        "\n",
        "y_train = to_categorical(train_labels)\n",
        "y_test = to_categorical(test_labels)\n",
        "\n",
        "print(y_train)\n",
        "print(y_test)\n"
      ],
      "metadata": {
        "colab": {
          "base_uri": "https://localhost:8080/"
        },
        "id": "G0Y--oXiJxYn",
        "outputId": "3a7ddbe7-a224-4adf-f137-267d693fe75e"
      },
      "execution_count": 7,
      "outputs": [
        {
          "output_type": "stream",
          "name": "stdout",
          "text": [
            "[[0. 0. 0. ... 0. 0. 0.]\n",
            " [0. 0. 0. ... 0. 0. 0.]\n",
            " [0. 0. 0. ... 0. 0. 0.]\n",
            " ...\n",
            " [0. 0. 0. ... 0. 0. 0.]\n",
            " [0. 0. 0. ... 0. 0. 0.]\n",
            " [0. 0. 0. ... 0. 0. 0.]]\n",
            "[[0. 0. 0. ... 0. 0. 0.]\n",
            " [0. 0. 0. ... 0. 0. 0.]\n",
            " [0. 1. 0. ... 0. 0. 0.]\n",
            " ...\n",
            " [0. 0. 0. ... 0. 0. 0.]\n",
            " [0. 0. 0. ... 0. 0. 0.]\n",
            " [0. 0. 0. ... 0. 0. 0.]]\n"
          ]
        }
      ]
    },
    {
      "cell_type": "code",
      "source": [
        "from tensorflow import keras\n",
        "from tensorflow.keras import layers\n",
        "\n",
        "model = keras.Sequential([\n",
        "    layers.Dense(64, activation=\"relu\"),\n",
        "    layers.Dense(64, activation=\"relu\"),\n",
        "    layers.Dense(46, activation=\"softmax\")\n",
        "])\n",
        "\n",
        "model.compile(optimizer=\"rmsprop\", loss=\"categorical_crossentropy\",metrics=[\"accuracy\"])\n",
        "\n",
        "x_val = x_train[:1000]\n",
        "partial_x_train=x_train[1000:]\n",
        "y_val = y_train[:1000]\n",
        "partial_y_train=y_train[1000:]\n",
        "\n",
        "history = model.fit(partial_x_train, partial_y_train, epochs=20, batch_size=512, validation_data=(x_val, y_val))\n",
        "\n"
      ],
      "metadata": {
        "colab": {
          "base_uri": "https://localhost:8080/"
        },
        "id": "sQPxwz7HKb5c",
        "outputId": "208db5a1-fe82-4dab-c6bd-8b8ea0e6d280"
      },
      "execution_count": 9,
      "outputs": [
        {
          "output_type": "stream",
          "name": "stdout",
          "text": [
            "Epoch 1/20\n",
            "16/16 [==============================] - 5s 36ms/step - loss: 2.8257 - accuracy: 0.4764 - val_loss: 1.8860 - val_accuracy: 0.6040\n",
            "Epoch 2/20\n",
            "16/16 [==============================] - 0s 20ms/step - loss: 1.5856 - accuracy: 0.6686 - val_loss: 1.4205 - val_accuracy: 0.6850\n",
            "Epoch 3/20\n",
            "16/16 [==============================] - 0s 17ms/step - loss: 1.2101 - accuracy: 0.7428 - val_loss: 1.2424 - val_accuracy: 0.7250\n",
            "Epoch 4/20\n",
            "16/16 [==============================] - 0s 17ms/step - loss: 0.9884 - accuracy: 0.7880 - val_loss: 1.1196 - val_accuracy: 0.7440\n",
            "Epoch 5/20\n",
            "16/16 [==============================] - 0s 20ms/step - loss: 0.8259 - accuracy: 0.8187 - val_loss: 1.0423 - val_accuracy: 0.7720\n",
            "Epoch 6/20\n",
            "16/16 [==============================] - 0s 19ms/step - loss: 0.6947 - accuracy: 0.8502 - val_loss: 0.9866 - val_accuracy: 0.7890\n",
            "Epoch 7/20\n",
            "16/16 [==============================] - 0s 17ms/step - loss: 0.5765 - accuracy: 0.8748 - val_loss: 0.9416 - val_accuracy: 0.7990\n",
            "Epoch 8/20\n",
            "16/16 [==============================] - 0s 17ms/step - loss: 0.4866 - accuracy: 0.8938 - val_loss: 0.9151 - val_accuracy: 0.8080\n",
            "Epoch 9/20\n",
            "16/16 [==============================] - 0s 19ms/step - loss: 0.4117 - accuracy: 0.9131 - val_loss: 0.9232 - val_accuracy: 0.8080\n",
            "Epoch 10/20\n",
            "16/16 [==============================] - 0s 17ms/step - loss: 0.3495 - accuracy: 0.9260 - val_loss: 0.9055 - val_accuracy: 0.8050\n",
            "Epoch 11/20\n",
            "16/16 [==============================] - 0s 17ms/step - loss: 0.3045 - accuracy: 0.9310 - val_loss: 0.8973 - val_accuracy: 0.8110\n",
            "Epoch 12/20\n",
            "16/16 [==============================] - 0s 17ms/step - loss: 0.2643 - accuracy: 0.9396 - val_loss: 0.9621 - val_accuracy: 0.8010\n",
            "Epoch 13/20\n",
            "16/16 [==============================] - 0s 17ms/step - loss: 0.2333 - accuracy: 0.9470 - val_loss: 0.8832 - val_accuracy: 0.8190\n",
            "Epoch 14/20\n",
            "16/16 [==============================] - 0s 20ms/step - loss: 0.2060 - accuracy: 0.9501 - val_loss: 0.8962 - val_accuracy: 0.8190\n",
            "Epoch 15/20\n",
            "16/16 [==============================] - 0s 19ms/step - loss: 0.1876 - accuracy: 0.9520 - val_loss: 0.9124 - val_accuracy: 0.8120\n",
            "Epoch 16/20\n",
            "16/16 [==============================] - 0s 18ms/step - loss: 0.1727 - accuracy: 0.9529 - val_loss: 0.9038 - val_accuracy: 0.8230\n",
            "Epoch 17/20\n",
            "16/16 [==============================] - 0s 18ms/step - loss: 0.1580 - accuracy: 0.9540 - val_loss: 0.9247 - val_accuracy: 0.8150\n",
            "Epoch 18/20\n",
            "16/16 [==============================] - 0s 20ms/step - loss: 0.1514 - accuracy: 0.9545 - val_loss: 0.9633 - val_accuracy: 0.8150\n",
            "Epoch 19/20\n",
            "16/16 [==============================] - 0s 24ms/step - loss: 0.1435 - accuracy: 0.9564 - val_loss: 0.9612 - val_accuracy: 0.8180\n",
            "Epoch 20/20\n",
            "16/16 [==============================] - 0s 24ms/step - loss: 0.1339 - accuracy: 0.9545 - val_loss: 1.0053 - val_accuracy: 0.8060\n"
          ]
        }
      ]
    },
    {
      "cell_type": "code",
      "source": [
        "import matplotlib.pyplot as plt\n",
        "history_dict = history.history\n",
        "loss_value = history_dict[\"loss\"]\n",
        "val_loss_value = history_dict[\"val_loss\"]\n",
        "epochs = range(1, len(loss_value) + 1)\n",
        "\n",
        "plt.plot(epochs, loss_value, \"bo\", label=\"training loss\")\n",
        "plt.plot(epochs, val_loss_value, \"b\", label=\"validation loss\")\n",
        "plt.title(\"training and validation loss\")\n",
        "plt.xlabel(\"epochs\")\n",
        "plt.ylabel(\"Loss\")\n",
        "plt.legend()\n",
        "plt.show()"
      ],
      "metadata": {
        "colab": {
          "base_uri": "https://localhost:8080/",
          "height": 472
        },
        "id": "WB2C8fDKLy-c",
        "outputId": "81d2e8eb-8f17-4393-8fee-f7b36176facd"
      },
      "execution_count": 10,
      "outputs": [
        {
          "output_type": "display_data",
          "data": {
            "text/plain": [
              "<Figure size 640x480 with 1 Axes>"
            ],
            "image/png": "[encoded data removed]"
          },
          "metadata": {}
        }
      ]
    },
    {
      "cell_type": "code",
      "source": [
        "plt.clf()\n",
        "acc = history_dict[\"accuracy\"]\n",
        "val_acc = history_dict[\"val_accuracy\"]\n",
        "\n",
        "plt.plot(epochs, acc, \"bo\", label=\"training acc\")\n",
        "plt.plot(epochs, val_acc, \"b\", label=\"validation acc\")\n",
        "plt.title(\"training and validation acc\")\n",
        "plt.xlabel(\"epochs\")\n",
        "plt.ylabel(\"acc\")\n",
        "plt.legend()\n",
        "plt.show()"
      ],
      "metadata": {
        "colab": {
          "base_uri": "https://localhost:8080/",
          "height": 472
        },
        "id": "vKv07x-HL5v3",
        "outputId": "d8eaaf7f-2c82-443e-f6ee-9fe5f6a6d7bf"
      },
      "execution_count": 11,
      "outputs": [
        {
          "output_type": "display_data",
          "data": {
            "text/plain": [
              "<Figure size 640x480 with 1 Axes>"
            ],
            "image/png": "[encoded data removed]"
          },
          "metadata": {}
        }
      ]
    },
    {
      "cell_type": "code",
      "source": [
        "model = keras.Sequential([\n",
        "    layers.Dense(64, activation=\"relu\"),\n",
        "    layers.Dense(64, activation=\"relu\"),\n",
        "    layers.Dense(46, activation=\"softmax\")\n",
        "])\n",
        "model.compile(optimizer=\"rmsprop\", loss=\"categorical_crossentropy\",metrics=[\"accuracy\"])\n",
        "model.fit(x_train, y_train, epochs=9, batch_size=512)\n",
        "results = model.evaluate(x_test, y_test)\n",
        "print(results)"
      ],
      "metadata": {
        "colab": {
          "base_uri": "https://localhost:8080/"
        },
        "id": "O2Pv5uuzL_uP",
        "outputId": "114a814a-74b1-4d13-af69-15dc04ea8709"
      },
      "execution_count": 12,
      "outputs": [
        {
          "output_type": "stream",
          "name": "stdout",
          "text": [
            "Epoch 1/9\n",
            "18/18 [==============================] - 1s 14ms/step - loss: 2.5661 - accuracy: 0.5091\n",
            "Epoch 2/9\n",
            "18/18 [==============================] - 0s 13ms/step - loss: 1.3830 - accuracy: 0.7067\n",
            "Epoch 3/9\n",
            "18/18 [==============================] - 0s 13ms/step - loss: 1.0686 - accuracy: 0.7727\n",
            "Epoch 4/9\n",
            "18/18 [==============================] - 0s 13ms/step - loss: 0.8699 - accuracy: 0.8141\n",
            "Epoch 5/9\n",
            "18/18 [==============================] - 0s 14ms/step - loss: 0.7212 - accuracy: 0.8427\n",
            "Epoch 6/9\n",
            "18/18 [==============================] - 0s 14ms/step - loss: 0.6018 - accuracy: 0.8676\n",
            "Epoch 7/9\n",
            "18/18 [==============================] - 0s 14ms/step - loss: 0.5050 - accuracy: 0.8896\n",
            "Epoch 8/9\n",
            "18/18 [==============================] - 0s 14ms/step - loss: 0.4271 - accuracy: 0.9077\n",
            "Epoch 9/9\n",
            "18/18 [==============================] - 0s 14ms/step - loss: 0.3611 - accuracy: 0.9210\n",
            "71/71 [==============================] - 0s 3ms/step - loss: 0.9184 - accuracy: 0.7916\n",
            "[0.9184348583221436, 0.7916295528411865]\n"
          ]
        }
      ]
    },
    {
      "cell_type": "code",
      "source": [
        "import copy\n",
        "test_labels_copy = copy.copy(test_labels)\n",
        "np.random.shuffle(test_labels_copy)\n",
        "hits_array = (np.array(test_labels) == np.array(test_labels_copy))\n",
        "hits_array.mean()\n"
      ],
      "metadata": {
        "colab": {
          "base_uri": "https://localhost:8080/"
        },
        "id": "MdJOlVD7MbPW",
        "outputId": "c3783c8b-a6c3-499c-fb5b-58bc4f2d3a54"
      },
      "execution_count": 13,
      "outputs": [
        {
          "output_type": "execute_result",
          "data": {
            "text/plain": [
              "0.19456812110418523"
            ]
          },
          "metadata": {},
          "execution_count": 13
        }
      ]
    },
    {
      "cell_type": "code",
      "source": [
        "predictions = model.predict(x_test)\n",
        "print(predictions[0].shape)\n",
        "print(np.sum(predictions[0]))\n",
        "print(np.argmax(predictions[0]))\n"
      ],
      "metadata": {
        "colab": {
          "base_uri": "https://localhost:8080/"
        },
        "id": "LexGjvD-NRnY",
        "outputId": "0aa13d30-ed9b-4b82-d46c-d6f19b025ed0"
      },
      "execution_count": 14,
      "outputs": [
        {
          "output_type": "stream",
          "name": "stdout",
          "text": [
            "71/71 [==============================] - 0s 2ms/step\n",
            "(46,)\n",
            "0.99999994\n",
            "4\n"
          ]
        }
      ]
    },
    {
      "cell_type": "code",
      "source": [
        "y_train = np.array(train_labels)\n",
        "y_test = np.array(test_labels)\n",
        "\n",
        "print(train_labels)\n",
        "print(test_labels)\n",
        "print(y_train)\n",
        "print(y_test)\n",
        "\n",
        "model.compile(optimizer=\"rmsprop\", loss=\"sparse_categorical_crossentropy\",metrics=[\"accuracy\"])\n",
        "model.fit(x_train, y_train, epochs=9, batch_size=512)\n",
        "results = model.evaluate(x_test, y_test)\n",
        "print(results)"
      ],
      "metadata": {
        "colab": {
          "base_uri": "https://localhost:8080/"
        },
        "id": "u6cQrzdXNnyk",
        "outputId": "202d28b5-a2c7-48c1-a7f0-93e74f2702d1"
      },
      "execution_count": 18,
      "outputs": [
        {
          "output_type": "stream",
          "name": "stdout",
          "text": [
            "[ 3  4  3 ... 25  3 25]\n",
            "[ 3 10  1 ...  3  3 24]\n",
            "[ 3  4  3 ... 25  3 25]\n",
            "[ 3 10  1 ...  3  3 24]\n",
            "Epoch 1/9\n",
            "18/18 [==============================] - 1s 14ms/step - loss: 0.3292 - accuracy: 0.9259\n",
            "Epoch 2/9\n",
            "18/18 [==============================] - 0s 13ms/step - loss: 0.2686 - accuracy: 0.9393\n",
            "Epoch 3/9\n",
            "18/18 [==============================] - 0s 14ms/step - loss: 0.2378 - accuracy: 0.9450\n",
            "Epoch 4/9\n",
            "18/18 [==============================] - 0s 14ms/step - loss: 0.2145 - accuracy: 0.9482\n",
            "Epoch 5/9\n",
            "18/18 [==============================] - 0s 13ms/step - loss: 0.1928 - accuracy: 0.9508\n",
            "Epoch 6/9\n",
            "18/18 [==============================] - 0s 14ms/step - loss: 0.1803 - accuracy: 0.9506\n",
            "Epoch 7/9\n",
            "18/18 [==============================] - 0s 13ms/step - loss: 0.1644 - accuracy: 0.9518\n",
            "Epoch 8/9\n",
            "18/18 [==============================] - 0s 13ms/step - loss: 0.1573 - accuracy: 0.9545\n",
            "Epoch 9/9\n",
            "18/18 [==============================] - 0s 13ms/step - loss: 0.1489 - accuracy: 0.9534\n",
            "71/71 [==============================] - 0s 3ms/step - loss: 1.0070 - accuracy: 0.7943\n",
            "[1.0069719552993774, 0.7943009734153748]\n"
          ]
        }
      ]
    }
  ]
}