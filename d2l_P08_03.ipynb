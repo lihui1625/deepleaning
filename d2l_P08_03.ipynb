{
  "nbformat": 4,
  "nbformat_minor": 0,
  "metadata": {
    "colab": {
      "provenance": [],
      "authorship_tag": "ABX9TyMkCcqgB+DNn+p6dsrb31XI",
      "include_colab_link": true
    },
    "kernelspec": {
      "name": "python3",
      "display_name": "Python 3"
    },
    "language_info": {
      "name": "python"
    }
  },
  "cells": [
    {
      "cell_type": "markdown",
      "metadata": {
        "id": "view-in-github",
        "colab_type": "text"
      },
      "source": [
        "<a href=\"https://colab.research.google.com/github/lihui1625/deepleaning/blob/main/d2l_P08_03.ipynb\" target=\"_parent\"><img src=\"https://colab.research.google.com/assets/colab-badge.svg\" alt=\"Open In Colab\"/></a>"
      ]
    },
    {
      "cell_type": "code",
      "execution_count": null,
      "metadata": {
        "id": "-HMeJEfJjeAQ"
      },
      "outputs": [],
      "source": [
        "!pip install d2l"
      ]
    },
    {
      "cell_type": "code",
      "source": [
        "import collections\n",
        "import re\n",
        "from d2l import torch as d2l"
      ],
      "metadata": {
        "id": "cW4J6cy-j1Zg"
      },
      "execution_count": null,
      "outputs": []
    },
    {
      "cell_type": "code",
      "source": [
        "d2l.DATA_HUB['time_machine'] = (d2l.DATA_URL + 'timemachine.txt', '090b5e7e70c295757f55df93cb0a180b9691891a')"
      ],
      "metadata": {
        "id": "lzKwzeTxkA3n"
      },
      "execution_count": null,
      "outputs": []
    },
    {
      "cell_type": "code",
      "source": [
        "def read_time_machine():\n",
        "  with open(d2l.download('time_machine'),'r') as f:\n",
        "    lines = f.readlines()\n",
        "  return [re.sub('[^A-Za-z]+', ' ', line).strip().lower() for line in lines]"
      ],
      "metadata": {
        "id": "80remB7lkXV7"
      },
      "execution_count": null,
      "outputs": []
    },
    {
      "cell_type": "code",
      "source": [
        "lines = read_time_machine()\n",
        "len(lines)"
      ],
      "metadata": {
        "colab": {
          "base_uri": "https://localhost:8080/"
        },
        "id": "q1ksm5AOlAWO",
        "outputId": "14b3b004-0724-4edb-d8be-8648e8bd4151"
      },
      "execution_count": null,
      "outputs": [
        {
          "output_type": "execute_result",
          "data": {
            "text/plain": [
              "3221"
            ]
          },
          "metadata": {},
          "execution_count": 27
        }
      ]
    },
    {
      "cell_type": "code",
      "source": [
        "lines[:11]"
      ],
      "metadata": {
        "colab": {
          "base_uri": "https://localhost:8080/"
        },
        "id": "GF1m4UojlPII",
        "outputId": "f1579182-47e2-4ab2-9b06-92004204e3ca"
      },
      "execution_count": null,
      "outputs": [
        {
          "output_type": "execute_result",
          "data": {
            "text/plain": [
              "['the time machine by h g wells',\n",
              " '',\n",
              " '',\n",
              " '',\n",
              " '',\n",
              " 'i',\n",
              " '',\n",
              " '',\n",
              " 'the time traveller for so it will be convenient to speak of him',\n",
              " 'was expounding a recondite matter to us his grey eyes shone and',\n",
              " 'twinkled and his usually pale face was flushed and animated the']"
            ]
          },
          "metadata": {},
          "execution_count": 28
        }
      ]
    },
    {
      "cell_type": "code",
      "source": [
        "(lines[10]).split()"
      ],
      "metadata": {
        "colab": {
          "base_uri": "https://localhost:8080/"
        },
        "id": "0NKh_5AFmEvh",
        "outputId": "c05fe602-9d23-4be7-c1b3-9f7f2604ef8e"
      },
      "execution_count": null,
      "outputs": [
        {
          "output_type": "execute_result",
          "data": {
            "text/plain": [
              "['twinkled',\n",
              " 'and',\n",
              " 'his',\n",
              " 'usually',\n",
              " 'pale',\n",
              " 'face',\n",
              " 'was',\n",
              " 'flushed',\n",
              " 'and',\n",
              " 'animated',\n",
              " 'the']"
            ]
          },
          "metadata": {},
          "execution_count": 14
        }
      ]
    },
    {
      "cell_type": "code",
      "source": [
        "list((lines[10]))"
      ],
      "metadata": {
        "colab": {
          "base_uri": "https://localhost:8080/"
        },
        "id": "lzHrqaF6mRxF",
        "outputId": "7f12043a-2762-43a8-b717-6fb6990e23e5"
      },
      "execution_count": null,
      "outputs": [
        {
          "output_type": "execute_result",
          "data": {
            "text/plain": [
              "['t',\n",
              " 'w',\n",
              " 'i',\n",
              " 'n',\n",
              " 'k',\n",
              " 'l',\n",
              " 'e',\n",
              " 'd',\n",
              " ' ',\n",
              " 'a',\n",
              " 'n',\n",
              " 'd',\n",
              " ' ',\n",
              " 'h',\n",
              " 'i',\n",
              " 's',\n",
              " ' ',\n",
              " 'u',\n",
              " 's',\n",
              " 'u',\n",
              " 'a',\n",
              " 'l',\n",
              " 'l',\n",
              " 'y',\n",
              " ' ',\n",
              " 'p',\n",
              " 'a',\n",
              " 'l',\n",
              " 'e',\n",
              " ' ',\n",
              " 'f',\n",
              " 'a',\n",
              " 'c',\n",
              " 'e',\n",
              " ' ',\n",
              " 'w',\n",
              " 'a',\n",
              " 's',\n",
              " ' ',\n",
              " 'f',\n",
              " 'l',\n",
              " 'u',\n",
              " 's',\n",
              " 'h',\n",
              " 'e',\n",
              " 'd',\n",
              " ' ',\n",
              " 'a',\n",
              " 'n',\n",
              " 'd',\n",
              " ' ',\n",
              " 'a',\n",
              " 'n',\n",
              " 'i',\n",
              " 'm',\n",
              " 'a',\n",
              " 't',\n",
              " 'e',\n",
              " 'd',\n",
              " ' ',\n",
              " 't',\n",
              " 'h',\n",
              " 'e']"
            ]
          },
          "metadata": {},
          "execution_count": 15
        }
      ]
    },
    {
      "cell_type": "code",
      "source": [
        "def tokenize(lines, token='word'):\n",
        "  if token == 'word':\n",
        "    return [line.split() for line in lines]\n",
        "  elif token == 'char':\n",
        "    return [list(line) for line in lines]\n",
        "  else:\n",
        "    print(\"Error: \", token)"
      ],
      "metadata": {
        "id": "OsmdyCsblZSr"
      },
      "execution_count": null,
      "outputs": []
    },
    {
      "cell_type": "code",
      "source": [
        "tokens = tokenize(lines)\n",
        "tokens[:11]"
      ],
      "metadata": {
        "colab": {
          "base_uri": "https://localhost:8080/"
        },
        "id": "Nqc_KeSJmccL",
        "outputId": "ecc6666a-b0a7-4f60-bbff-af32c387407b"
      },
      "execution_count": null,
      "outputs": [
        {
          "output_type": "execute_result",
          "data": {
            "text/plain": [
              "[['the', 'time', 'machine', 'by', 'h', 'g', 'wells'],\n",
              " [],\n",
              " [],\n",
              " [],\n",
              " [],\n",
              " ['i'],\n",
              " [],\n",
              " [],\n",
              " ['the',\n",
              "  'time',\n",
              "  'traveller',\n",
              "  'for',\n",
              "  'so',\n",
              "  'it',\n",
              "  'will',\n",
              "  'be',\n",
              "  'convenient',\n",
              "  'to',\n",
              "  'speak',\n",
              "  'of',\n",
              "  'him'],\n",
              " ['was',\n",
              "  'expounding',\n",
              "  'a',\n",
              "  'recondite',\n",
              "  'matter',\n",
              "  'to',\n",
              "  'us',\n",
              "  'his',\n",
              "  'grey',\n",
              "  'eyes',\n",
              "  'shone',\n",
              "  'and'],\n",
              " ['twinkled',\n",
              "  'and',\n",
              "  'his',\n",
              "  'usually',\n",
              "  'pale',\n",
              "  'face',\n",
              "  'was',\n",
              "  'flushed',\n",
              "  'and',\n",
              "  'animated',\n",
              "  'the']]"
            ]
          },
          "metadata": {},
          "execution_count": 30
        }
      ]
    },
    {
      "cell_type": "code",
      "source": [
        "def count_corpus(tokens):\n",
        "  if len(tokens) == 0 or isinstance(tokens[0], list):\n",
        "    tokens = [token for line in tokens for token in line ]\n",
        "  return collections.Counter(tokens)"
      ],
      "metadata": {
        "id": "529uwXopnTVD"
      },
      "execution_count": null,
      "outputs": []
    },
    {
      "cell_type": "code",
      "source": [
        "cc = count_corpus(tokens)\n",
        "cc"
      ],
      "metadata": {
        "id": "1DGssaCen2ns"
      },
      "execution_count": null,
      "outputs": []
    },
    {
      "cell_type": "code",
      "source": [
        "class Vocab:\n",
        "\n",
        "  def __init__(self, tokens=None, min_freq=0, reserved_tokens=None):\n",
        "    if tokens is None:\n",
        "      tokens = []\n",
        "    if reserved_tokens is None:\n",
        "      reserved_tokens = []\n",
        "    counter = count_corpus(tokens)\n",
        "    self._token_freqs = sorted(counter.items(), key=lambda x:x[1], reverse=True)\n",
        "    self.idx_to_token = ['<unk>'] + reserved_tokens\n",
        "    self.token_to_idx = {token: idx for idx, token in enumerate(self.idx_to_token)}\n",
        "    for token, freq in self._token_freqs:\n",
        "      if freq < min_freq:\n",
        "        break\n",
        "      if token not in self.token_to_idx:\n",
        "        self.idx_to_token.append(token)\n",
        "        self.token_to_idx[token] = len(self.idx_to_token) - 1\n",
        "\n",
        "\n",
        "  def __len__(self):\n",
        "    return len(self.idx_to_token)\n",
        "\n",
        "  def __getitem__(self, tokens):\n",
        "    if not isinstance(tokens, (list, tuple)):\n",
        "      return self.token_to_idx.get(tokens, self.unk)\n",
        "    return [self.__getitem__(token) for token in tokens]\n",
        "\n",
        "  def to_tokens(self, indices):\n",
        "    if not isinstance(indices, (list, tuple)):\n",
        "      return self.idx_to_token[indices]\n",
        "    return [self.idx_to_token[index] for index in indices]\n",
        "\n",
        "  @property\n",
        "  def unk(self):\n",
        "    return 0\n",
        "\n",
        "  @property\n",
        "  def token_freqs(self):\n",
        "    return self._token_freqs\n"
      ],
      "metadata": {
        "id": "EqGXNj6jmu3H"
      },
      "execution_count": null,
      "outputs": []
    },
    {
      "cell_type": "code",
      "source": [
        "vocab = Vocab(tokens)"
      ],
      "metadata": {
        "id": "-4S0-pn8rbDY"
      },
      "execution_count": null,
      "outputs": []
    },
    {
      "cell_type": "code",
      "source": [
        "list(vocab.token_to_idx.items())[:10]"
      ],
      "metadata": {
        "colab": {
          "base_uri": "https://localhost:8080/"
        },
        "id": "UKwZZzZ4rkK_",
        "outputId": "e2b6e175-0a84-4e5e-ef85-ab147c6b3826"
      },
      "execution_count": null,
      "outputs": [
        {
          "output_type": "execute_result",
          "data": {
            "text/plain": [
              "[('<unk>', 0),\n",
              " ('the', 1),\n",
              " ('i', 2),\n",
              " ('and', 3),\n",
              " ('of', 4),\n",
              " ('a', 5),\n",
              " ('to', 6),\n",
              " ('was', 7),\n",
              " ('in', 8),\n",
              " ('that', 9)]"
            ]
          },
          "metadata": {},
          "execution_count": 36
        }
      ]
    },
    {
      "cell_type": "code",
      "source": [],
      "metadata": {
        "id": "Aet6mA1ztYwc"
      },
      "execution_count": null,
      "outputs": []
    },
    {
      "cell_type": "code",
      "source": [
        "for i in [0, 10]:\n",
        "  print(f\"text: {tokens[i]}\")\n",
        "  print(f\"index: {vocab[tokens[i]]}\")"
      ],
      "metadata": {
        "colab": {
          "base_uri": "https://localhost:8080/"
        },
        "id": "IqneuzxrssCl",
        "outputId": "a1c864cb-9b47-4fcb-9485-5382027959c4"
      },
      "execution_count": null,
      "outputs": [
        {
          "output_type": "stream",
          "name": "stdout",
          "text": [
            "text: ['the', 'time', 'machine', 'by', 'h', 'g', 'wells']\n",
            "index: [1, 19, 50, 40, 2183, 2184, 400]\n",
            "text: ['twinkled', 'and', 'his', 'usually', 'pale', 'face', 'was', 'flushed', 'and', 'animated', 'the']\n",
            "index: [2186, 3, 25, 1044, 362, 113, 7, 1421, 3, 1045, 1]\n"
          ]
        }
      ]
    },
    {
      "cell_type": "code",
      "source": [
        "def load_corpus_time_machine(max_tokens=-1):\n",
        "  lines = read_time_machine()\n",
        "  tokens = tokenize(lines, 'char')\n",
        "  vocab = Vocab(tokens)\n",
        "  corpus = [vocab[token] for line in tokens for token in line]\n",
        "  if max_tokens > 0:\n",
        "    corpus = corpus[:max_tokens]\n",
        "  return corpus, vocab\n"
      ],
      "metadata": {
        "id": "R5Pan0wwtaAD"
      },
      "execution_count": null,
      "outputs": []
    },
    {
      "cell_type": "code",
      "source": [
        "corpus, vocab = load_corpus_time_machine()"
      ],
      "metadata": {
        "id": "v0JtvNyRu4ar"
      },
      "execution_count": null,
      "outputs": []
    },
    {
      "cell_type": "code",
      "source": [],
      "metadata": {
        "id": "ivdI9CXovv8v"
      },
      "execution_count": null,
      "outputs": []
    },
    {
      "cell_type": "code",
      "source": [
        "len(corpus), len(vocab)"
      ],
      "metadata": {
        "colab": {
          "base_uri": "https://localhost:8080/"
        },
        "id": "uji_wOu0u-gD",
        "outputId": "962fac14-bc59-4b6a-f426-ed761bc2fc4f"
      },
      "execution_count": null,
      "outputs": [
        {
          "output_type": "execute_result",
          "data": {
            "text/plain": [
              "(170580, 28)"
            ]
          },
          "metadata": {},
          "execution_count": 44
        }
      ]
    },
    {
      "cell_type": "code",
      "source": [
        "corpus[:10]"
      ],
      "metadata": {
        "colab": {
          "base_uri": "https://localhost:8080/"
        },
        "id": "zJHI9-I5vLwO",
        "outputId": "502d0ebd-c9f9-4909-a73c-9fd9716ef68a"
      },
      "execution_count": null,
      "outputs": [
        {
          "output_type": "execute_result",
          "data": {
            "text/plain": [
              "[3, 9, 2, 1, 3, 5, 13, 2, 1, 13]"
            ]
          },
          "metadata": {},
          "execution_count": 45
        }
      ]
    },
    {
      "cell_type": "code",
      "source": [
        "vocab.token_freqs"
      ],
      "metadata": {
        "colab": {
          "base_uri": "https://localhost:8080/"
        },
        "id": "e5ViZUxnvPZC",
        "outputId": "53f64afc-0b88-4714-a9c6-bb746ff76039"
      },
      "execution_count": null,
      "outputs": [
        {
          "output_type": "execute_result",
          "data": {
            "text/plain": [
              "[(' ', 29927),\n",
              " ('e', 17838),\n",
              " ('t', 13515),\n",
              " ('a', 11704),\n",
              " ('i', 10138),\n",
              " ('n', 9917),\n",
              " ('o', 9758),\n",
              " ('s', 8486),\n",
              " ('h', 8257),\n",
              " ('r', 7674),\n",
              " ('d', 6337),\n",
              " ('l', 6146),\n",
              " ('m', 4043),\n",
              " ('u', 3805),\n",
              " ('c', 3424),\n",
              " ('f', 3354),\n",
              " ('w', 3225),\n",
              " ('g', 3075),\n",
              " ('y', 2679),\n",
              " ('p', 2427),\n",
              " ('b', 1897),\n",
              " ('v', 1295),\n",
              " ('k', 1087),\n",
              " ('x', 236),\n",
              " ('z', 144),\n",
              " ('j', 97),\n",
              " ('q', 95)]"
            ]
          },
          "metadata": {},
          "execution_count": 50
        }
      ]
    },
    {
      "cell_type": "code",
      "source": [
        "corpus, vocab = load_corpus_time_machine(1000)"
      ],
      "metadata": {
        "id": "gRSuKm1Dvwur"
      },
      "execution_count": null,
      "outputs": []
    },
    {
      "cell_type": "code",
      "source": [
        "len(corpus), len(vocab)"
      ],
      "metadata": {
        "colab": {
          "base_uri": "https://localhost:8080/"
        },
        "id": "xEtwE00gw4YP",
        "outputId": "3c18755e-ae95-4b85-9448-b9c906e38f5c"
      },
      "execution_count": null,
      "outputs": [
        {
          "output_type": "execute_result",
          "data": {
            "text/plain": [
              "(1000, 28)"
            ]
          },
          "metadata": {},
          "execution_count": 57
        }
      ]
    }
  ]
}